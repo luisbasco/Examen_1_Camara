{
 "cells": [
  {
   "cell_type": "markdown",
   "metadata": {},
   "source": [
    "**EVALUACION DEL EJERCICIO 1 DE CLASIFICACION**"
   ]
  },
  {
   "cell_type": "markdown",
   "metadata": {},
   "source": [
    "**Porque he elegido este modelo de aprendizaje supervisado**\n",
    "\n",
    "El modelo de aprendizaje supervisado que he elegido es el de regresion logistica multinomial ya que como en el enunciado del problema se menciona que aparte de ser de clasificacion pide que clasifique la obesidad en 4 categorias por lo tanto es necesario utilizar un modelo que pueda manejar mas de dos categorias de respuesta, y el regresion logistica multinomial es el modelo adecuado para este tipo de problemas.\n",
    "\n",
    "\n",
    "**Primera Evaluacion del rendimiento**\n",
    "\n",
    "Como vemos, en el reporte de clasificacion, el accuracy o la exactitud en la proporcion de predicciones es bastante decente con un porcentaje del 87%.\n",
    "Con una precision alta, al igual que en el Recall y el F1-score.\n",
    "\n",
    "**Ajuste de parametros**\n",
    "\n",
    "Comprobamos que con el ajuste de parametros el Accuracy incrementa un 8%, pasando de predecir un 87% a un 95% de los datos de entrenamiento. Esto muestra que el modelo puede mejorar su capacidad de prediccion en su entrenamiento.\n"
   ]
  },
  {
   "cell_type": "markdown",
   "metadata": {},
   "source": [
    "-----------------------------------------------------------"
   ]
  },
  {
   "cell_type": "markdown",
   "metadata": {},
   "source": [
    "**EVALUACION DEL EJERCICIO 1 DE REGRESION**\n",
    "\n",
    "Tras probar varios modelos como el arbol de regresion, la regresion lineal simple y la regresion lineal multiple. He obtenido que las mejores metricas de evaluacion son las de la regresion lineal multiple:\n",
    "\n",
    "MAE (Error Absoluto Medio): 59.11%\n",
    "MSE (Error Cuadrático Medio): 59.30%\n",
    "RMSE (Raíz del Error Cuadrático Medio): 77.00%\n",
    "R² (Coeficiente de Determinación): 99.10%\n",
    "\n",
    "\n",
    "Comparado con los otros dos modelos no se asemeja a los resultados obtenidos, por lo que se puede concluir que la regresion lineal multiple es el modelo que mejor se ajusta.\n"
   ]
  }
 ],
 "metadata": {
  "language_info": {
   "name": "python"
  }
 },
 "nbformat": 4,
 "nbformat_minor": 2
}
